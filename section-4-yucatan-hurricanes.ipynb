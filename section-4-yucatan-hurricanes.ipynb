{
 "cells": [
  {
   "cell_type": "markdown",
   "id": "d6e81062-f053-4da6-bbfa-caa761ddbe76",
   "metadata": {},
   "source": [
    "# Ycatan Peninsula Hurricanes\n",
    "## Week 4 - Section\n",
    "\n",
    "**Description:** This dataset includes information about the Saffir-Simpson hurricane category for each hurricane.\n",
    "\n",
    "**Citation:** Boose, E. and D. Foster. 2023. Ecological Impacts of Hurricanes Across the Yucatan Peninsula 1851-2000 ver 23. Environmental Data Initiative. https://doi.org/10.6073/pasta/f219113373913f2daf421732e28d3c38 (Accessed 2025-10-24).\n",
    "\n",
    "**Date Accessed:** 10/24/2025\n",
    "\n",
    "**Link:** https://portal.edirepository.org/nis/mapbrowse?packageid=knb-lter-hfr.71.23\n",
    "\n",
    "## Data loading and preiliminary exploration"
   ]
  },
  {
   "cell_type": "code",
   "execution_count": 1,
   "id": "f2a6d9b2-d0d9-4e18-986b-3c82a1500e77",
   "metadata": {
    "tags": []
   },
   "outputs": [],
   "source": [
    "import pandas as pd\n",
    "import matplotlib.pyplot as plt\n",
    "\n",
    "# Data download url\n",
    "url = \"https://pasta.lternet.edu/package/data/eml/knb-lter-hfr/71/23/ab0fe2bf4f3ad850371ccb9c69d78469\""
   ]
  },
  {
   "cell_type": "code",
   "execution_count": 2,
   "id": "704b8a3c-dce8-4c5e-a5d6-8f19450e1ffd",
   "metadata": {
    "tags": []
   },
   "outputs": [],
   "source": [
    "# Load in data\n",
    "df = pd.read_csv(url)"
   ]
  },
  {
   "cell_type": "code",
   "execution_count": 3,
   "id": "44a942e8-12c1-4370-8c5b-a3864d99abc3",
   "metadata": {
    "tags": []
   },
   "outputs": [
    {
     "data": {
      "text/html": [
       "<div>\n",
       "<style scoped>\n",
       "    .dataframe tbody tr th:only-of-type {\n",
       "        vertical-align: middle;\n",
       "    }\n",
       "\n",
       "    .dataframe tbody tr th {\n",
       "        vertical-align: top;\n",
       "    }\n",
       "\n",
       "    .dataframe thead th {\n",
       "        text-align: right;\n",
       "    }\n",
       "</style>\n",
       "<table border=\"1\" class=\"dataframe\">\n",
       "  <thead>\n",
       "    <tr style=\"text-align: right;\">\n",
       "      <th></th>\n",
       "      <th>code</th>\n",
       "      <th>start.date</th>\n",
       "      <th>end.date</th>\n",
       "      <th>number</th>\n",
       "      <th>name</th>\n",
       "      <th>ss</th>\n",
       "      <th>track</th>\n",
       "      <th>rf.max</th>\n",
       "    </tr>\n",
       "  </thead>\n",
       "  <tbody>\n",
       "    <tr>\n",
       "      <th>0</th>\n",
       "      <td>Y1852</td>\n",
       "      <td>1852-10-07</td>\n",
       "      <td>1852-10-08</td>\n",
       "      <td>5</td>\n",
       "      <td>NaN</td>\n",
       "      <td>2</td>\n",
       "      <td>O</td>\n",
       "      <td>F1</td>\n",
       "    </tr>\n",
       "    <tr>\n",
       "      <th>1</th>\n",
       "      <td>Y1857</td>\n",
       "      <td>1857-09-28</td>\n",
       "      <td>1857-09-28</td>\n",
       "      <td>4</td>\n",
       "      <td>NaN</td>\n",
       "      <td>2</td>\n",
       "      <td>N</td>\n",
       "      <td>F1</td>\n",
       "    </tr>\n",
       "    <tr>\n",
       "      <th>2</th>\n",
       "      <td>Y1861</td>\n",
       "      <td>1861-08-17</td>\n",
       "      <td>1861-08-17</td>\n",
       "      <td>2</td>\n",
       "      <td>NaN</td>\n",
       "      <td>1</td>\n",
       "      <td>O</td>\n",
       "      <td>Nd</td>\n",
       "    </tr>\n",
       "    <tr>\n",
       "      <th>3</th>\n",
       "      <td>Y1864</td>\n",
       "      <td>1864-08-31</td>\n",
       "      <td>1864-08-31</td>\n",
       "      <td>3</td>\n",
       "      <td>NaN</td>\n",
       "      <td>1</td>\n",
       "      <td>S</td>\n",
       "      <td>F1</td>\n",
       "    </tr>\n",
       "    <tr>\n",
       "      <th>4</th>\n",
       "      <td>Y1865</td>\n",
       "      <td>1865-09-11</td>\n",
       "      <td>1865-09-11</td>\n",
       "      <td>4</td>\n",
       "      <td>NaN</td>\n",
       "      <td>2</td>\n",
       "      <td>O</td>\n",
       "      <td>F1</td>\n",
       "    </tr>\n",
       "  </tbody>\n",
       "</table>\n",
       "</div>"
      ],
      "text/plain": [
       "    code  start.date    end.date  number name  ss track rf.max\n",
       "0  Y1852  1852-10-07  1852-10-08       5  NaN   2     O     F1\n",
       "1  Y1857  1857-09-28  1857-09-28       4  NaN   2     N     F1\n",
       "2  Y1861  1861-08-17  1861-08-17       2  NaN   1     O     Nd\n",
       "3  Y1864  1864-08-31  1864-08-31       3  NaN   1     S     F1\n",
       "4  Y1865  1865-09-11  1865-09-11       4  NaN   2     O     F1"
      ]
     },
     "execution_count": 3,
     "metadata": {},
     "output_type": "execute_result"
    }
   ],
   "source": [
    "# View data head\n",
    "df.head()"
   ]
  },
  {
   "cell_type": "code",
   "execution_count": 4,
   "id": "0c4eef59-5c36-4077-a1d6-b1ed65fc04e5",
   "metadata": {
    "tags": []
   },
   "outputs": [
    {
     "data": {
      "text/plain": [
       "code           0\n",
       "start.date     0\n",
       "end.date       0\n",
       "number         0\n",
       "name          72\n",
       "ss             0\n",
       "track          0\n",
       "rf.max         0\n",
       "dtype: int64"
      ]
     },
     "execution_count": 4,
     "metadata": {},
     "output_type": "execute_result"
    }
   ],
   "source": [
    "# Checking for NA values\n",
    "df.isna().sum()"
   ]
  },
  {
   "cell_type": "code",
   "execution_count": 5,
   "id": "6df886fa-6b10-47ce-8558-1ab78a32c9b6",
   "metadata": {
    "tags": []
   },
   "outputs": [
    {
     "data": {
      "text/plain": [
       "(105, 8)"
      ]
     },
     "execution_count": 5,
     "metadata": {},
     "output_type": "execute_result"
    }
   ],
   "source": [
    "# Check shape\n",
    "df.shape"
   ]
  },
  {
   "cell_type": "code",
   "execution_count": 6,
   "id": "267abc37-23a9-466c-9252-1d6280392b58",
   "metadata": {
    "tags": []
   },
   "outputs": [
    {
     "name": "stdout",
     "output_type": "stream",
     "text": [
      "<class 'pandas.core.frame.DataFrame'>\n",
      "RangeIndex: 105 entries, 0 to 104\n",
      "Data columns (total 8 columns):\n",
      " #   Column      Non-Null Count  Dtype \n",
      "---  ------      --------------  ----- \n",
      " 0   code        105 non-null    object\n",
      " 1   start.date  105 non-null    object\n",
      " 2   end.date    105 non-null    object\n",
      " 3   number      105 non-null    int64 \n",
      " 4   name        33 non-null     object\n",
      " 5   ss          105 non-null    int64 \n",
      " 6   track       105 non-null    object\n",
      " 7   rf.max      105 non-null    object\n",
      "dtypes: int64(2), object(6)\n",
      "memory usage: 6.7+ KB\n"
     ]
    }
   ],
   "source": [
    "# Display dtypes and num non NA\n",
    "df.info()"
   ]
  },
  {
   "cell_type": "markdown",
   "id": "5e042f38-2e11-4893-a975-987b7f7ffc93",
   "metadata": {},
   "source": [
    "## Brainstorm\n",
    "\n",
    "Q: How many hurricanes with Saffir-Simpson category 5 have been registered and what was their duration?\n",
    "\n",
    "Plan: Filter to ss == 5, use value counts to see, add end date - start data column\n",
    "\n",
    "## Data wrangling\n"
   ]
  },
  {
   "cell_type": "code",
   "execution_count": 7,
   "id": "3539609b-3c35-4a2c-9d6c-7de0fe3e295c",
   "metadata": {
    "tags": []
   },
   "outputs": [
    {
     "data": {
      "text/plain": [
       "4"
      ]
     },
     "execution_count": 7,
     "metadata": {},
     "output_type": "execute_result"
    }
   ],
   "source": [
    "# Filter for category 5 hurricanes\n",
    "cat5 = df.loc[df[\"ss\"] == 5, :].copy()\n",
    "\n",
    "# number of cat 5 hurricanes\n",
    "cat5.ss.count()"
   ]
  },
  {
   "cell_type": "markdown",
   "id": "385258e4-c0d3-461d-a4fc-e1e79948544a",
   "metadata": {},
   "source": [
    "There have been 4 category 5 hurricanes"
   ]
  },
  {
   "cell_type": "code",
   "execution_count": 8,
   "id": "3547fa89-da5c-4aa5-8a63-3cee1a9ddcc7",
   "metadata": {
    "tags": []
   },
   "outputs": [],
   "source": [
    "# Convert start and end dates to pd.datetime\n",
    "cat5.loc[:, \"start.date\"] = pd.to_datetime(cat5.loc[:, \"start.date\"])\n",
    "\n",
    "cat5.loc[:, \"end.date\"] = pd.to_datetime(cat5.loc[:, \"end.date\"])\n",
    "\n",
    "# Add duration column\n",
    "cat5['duration'] = cat5.loc[:, 'end.date'] - cat5.loc[:, 'start.date']"
   ]
  },
  {
   "cell_type": "code",
   "execution_count": 9,
   "id": "d1807247-c85e-4537-9fab-7971783fd89f",
   "metadata": {
    "tags": []
   },
   "outputs": [
    {
     "data": {
      "image/png": "[encoded data removed]",
      "text/plain": [
       "<Figure size 1200x500 with 1 Axes>"
      ]
     },
     "metadata": {},
     "output_type": "display_data"
    }
   ],
   "source": [
    "# Add year column to the original dataframe\n",
    "df[\"year\"] = pd.to_datetime(df[\"start.date\"]).dt.year\n",
    "\n",
    "# Plot \n",
    "fig, ax = plt.subplots(figsize = (12, 5))\n",
    "\n",
    "plt.scatter(x = df['year'], \n",
    "            y = df[\"ss\"],\n",
    "            c = \"slateblue\")\n",
    "plt.xlabel(\"Start Date\")\n",
    "plt.ylabel(\"Saffir-Simpson Category\")\n",
    "plt.yticks([1, 2, 3, 4, 5])\n",
    "plt.title(\"Yucatan Peninsual: Hurricanes Over time\")\n",
    "plt.show()"
   ]
  },
  {
   "cell_type": "markdown",
   "id": "9e21831f-b03a-4a36-a99d-f5521558e345",
   "metadata": {},
   "source": [
    "### Plot Analysis\n",
    "\n",
    "The scatter plot reveals a number of trends in hurricane activity across the Yucatan Peninsula from 1851 to 2000. Category 1 and 2 hurricanes occur consistently throughout the entire 150-year period, and are the most common hurricane categories. There are initially no records of Catagory 3 hurricanes before, but they start appearing reguluarly from the 1890s on. Category 4 and 5 hurricanes are the least common, with the first Catagory 4 appearing around 1950 and becoming more frequent in recent decades. All Category 5 hurricanes in this dataset occurred in the latter half of the 20th century (1955-2000). This concentration of the most intense hurricanes in recent decades may reflect improved measurement and classification technology, actual changes in hurricane intensity, or a combination of both factors.\n",
    "\n",
    "## Streamlined code"
   ]
  },
  {
   "cell_type": "code",
   "execution_count": 10,
   "id": "e25e1060-6b16-4705-b3d1-8bf0b3040c30",
   "metadata": {
    "tags": []
   },
   "outputs": [
    {
     "name": "stdout",
     "output_type": "stream",
     "text": [
      "Number of Category 5 hurricanes: 4\n",
      "\n",
      "Durations of Category 5 hurricanes:\n",
      "   name start.date duration\n",
      "  Janet 1955-09-28   0 days\n",
      "  Allen 1980-08-07   1 days\n",
      "Gilbert 1988-09-14   1 days\n",
      "  Mitch 1998-10-27   1 days\n",
      "\n",
      "Average duration: 0.75 days\n"
     ]
    }
   ],
   "source": [
    "# Filter for Category 5 hurricanes and create independent copy\n",
    "cat5 = df[df['ss'] == 5].copy()\n",
    "\n",
    "# Convert date columns to datetime format and calculate duration\n",
    "cat5['start.date'] = pd.to_datetime(cat5['start.date'])\n",
    "cat5['end.date'] = pd.to_datetime(cat5['end.date'])\n",
    "cat5['duration'] = cat5['end.date'] - cat5['start.date']\n",
    "\n",
    "# Display final results\n",
    "print(f\"Number of Category 5 hurricanes: {len(cat5)}\")\n",
    "print(f\"\\nDurations of Category 5 hurricanes:\")\n",
    "print(cat5[['name', 'start.date', 'duration']].to_string(index=False))\n",
    "print(f\"\\nAverage duration: {cat5['duration'].dt.days.mean()} days\")"
   ]
  },
  {
   "cell_type": "markdown",
   "id": "b5c83de7-9d91-46d0-8d82-721c5f26194c",
   "metadata": {},
   "source": [
    "Between 1851 and 2000, **4 Category 5 hurricanes** were registered in the Yucatan Peninsula, with durations ranging from **0 to 1 days** resulting in an anverage duration of **0.75 days** accross all these events."
   ]
  }
 ],
 "metadata": {
  "kernelspec": {
   "display_name": "EDS220",
   "language": "python",
   "name": "eds220-env"
  },
  "language_info": {
   "codemirror_mode": {
    "name": "ipython",
    "version": 3
   },
   "file_extension": ".py",
   "mimetype": "text/x-python",
   "name": "python",
   "nbconvert_exporter": "python",
   "pygments_lexer": "ipython3",
   "version": "3.11.4"
  }
 },
 "nbformat": 4,
 "nbformat_minor": 5
}
