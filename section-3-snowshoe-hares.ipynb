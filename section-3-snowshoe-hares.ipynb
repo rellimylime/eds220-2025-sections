{
 "cells": [
  {
   "cell_type": "markdown",
   "id": "bab99a95-f8d4-41e8-a6e1-f8920ca41fcb",
   "metadata": {},
   "source": [
    "# Section 3: Snowshoe hares at Bonanza Creek Experimental Forest\n",
    "\n",
    "## 1. Archive exploration\n",
    "i. This is data from capture-recapture studies of snowshoe hares in the Bonanza Riparian forest.\n",
    "ii. This data was collected between 1999-06-01 and 2012-09-14.\n",
    "iii. This data is not sensitive\n",
    "iv. I do not see a related publication\n",
    "\n",
    "## 2. Adding an image\n",
    "![image description](https://upload.wikimedia.org/wikipedia/commons/thumb/8/8a/SNOWSHOE_HARE_%28Lepus_americanus%29_%285-28-2015%29_quoddy_head%2C_washington_co%2C_maine_-01_%2818988734889%29.jpg/1089px-SNOWSHOE_HARE_%28Lepus_americanus%29_%285-28-2015%29_quoddy_head%2C_washington_co%2C_maine_-01_%2818988734889%29.jpg?20170313021652)\n",
    "\n",
    "No licensing required\n",
    "\n",
    "## 3. Data loading and preliminary exploration\n"
   ]
  },
  {
   "cell_type": "code",
   "execution_count": null,
   "id": "894da176-28fc-4679-a97c-04a01cee5726",
   "metadata": {},
   "outputs": [],
   "source": []
  }
 ],
 "metadata": {
  "kernelspec": {
   "display_name": "EDS220",
   "language": "python",
   "name": "eds220-env"
  },
  "language_info": {
   "codemirror_mode": {
    "name": "ipython",
    "version": 3
   },
   "file_extension": ".py",
   "mimetype": "text/x-python",
   "name": "python",
   "nbconvert_exporter": "python",
   "pygments_lexer": "ipython3",
   "version": "3.11.4"
  }
 },
 "nbformat": 4,
 "nbformat_minor": 5
}
