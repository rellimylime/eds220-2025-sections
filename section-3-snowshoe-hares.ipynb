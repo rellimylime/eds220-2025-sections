{
 "cells": [
  {
   "cell_type": "markdown",
   "id": "bab99a95-f8d4-41e8-a6e1-f8920ca41fcb",
   "metadata": {},
   "source": [
    "# Section 3: Snowshoe hares at Bonanza Creek Experimental Forest\n",
    "\n",
    "## 1. Archive exploration\n",
    "i. This is data from capture-recapture studies of snowshoe hares in the Bonanza Riparian forest.\n",
    "ii. This data was collected between 1999-06-01 and 2012-09-14.\n",
    "iii. This data is not sensitive\n",
    "iv. I do not see a related publication\n",
    "\n",
    "## 2. Adding an image\n",
    "![image description](https://upload.wikimedia.org/wikipedia/commons/thumb/8/8a/SNOWSHOE_HARE_%28Lepus_americanus%29_%285-28-2015%29_quoddy_head%2C_washington_co%2C_maine_-01_%2818988734889%29.jpg/1089px-SNOWSHOE_HARE_%28Lepus_americanus%29_%285-28-2015%29_quoddy_head%2C_washington_co%2C_maine_-01_%2818988734889%29.jpg?20170313021652)\n",
    "\n",
    "No licensing required\n",
    "\n",
    "## 3. Data loading and preliminary exploration\n"
   ]
  },
  {
   "cell_type": "code",
   "execution_count": 1,
   "id": "894da176-28fc-4679-a97c-04a01cee5726",
   "metadata": {
    "tags": []
   },
   "outputs": [],
   "source": [
    "import pandas as pd\n",
    "import numpy as np\n",
    "\n",
    "hares = pd.read_csv(\"https://pasta.lternet.edu/package/data/eml/knb-lter-bnz/55/22/f01f5d71be949b8c700b6ecd1c42c701\")"
   ]
  },
  {
   "cell_type": "code",
   "execution_count": 2,
   "id": "c3d2b3f7-7059-47f2-8df0-eb99d817faae",
   "metadata": {
    "tags": []
   },
   "outputs": [
    {
     "data": {
      "text/plain": [
       "(3380, 14)"
      ]
     },
     "execution_count": 2,
     "metadata": {},
     "output_type": "execute_result"
    }
   ],
   "source": [
    "# Find dimensions of dataframe\n",
    "hares.shape"
   ]
  },
  {
   "cell_type": "code",
   "execution_count": 3,
   "id": "53b8b5b6-50e4-4dc4-9e7b-45f473903eb8",
   "metadata": {
    "tags": []
   },
   "outputs": [
    {
     "data": {
      "text/plain": [
       "date           object\n",
       "time           object\n",
       "grid           object\n",
       "trap           object\n",
       "l_ear          object\n",
       "r_ear          object\n",
       "sex            object\n",
       "age            object\n",
       "weight        float64\n",
       "hindft        float64\n",
       "notes          object\n",
       "b_key         float64\n",
       "session_id      int64\n",
       "study          object\n",
       "dtype: object"
      ]
     },
     "execution_count": 3,
     "metadata": {},
     "output_type": "execute_result"
    }
   ],
   "source": [
    "# Display data types\n",
    "hares.dtypes"
   ]
  },
  {
   "cell_type": "code",
   "execution_count": 4,
   "id": "922c7a94-9f53-482b-9bb9-c6f1aec8b6da",
   "metadata": {
    "tags": []
   },
   "outputs": [
    {
     "data": {
      "text/plain": [
       "date             0\n",
       "time          3116\n",
       "grid             0\n",
       "trap            12\n",
       "l_ear           48\n",
       "r_ear          169\n",
       "sex            352\n",
       "age           2111\n",
       "weight         535\n",
       "hindft        1747\n",
       "notes         3137\n",
       "b_key           47\n",
       "session_id       0\n",
       "study          163\n",
       "dtype: int64"
      ]
     },
     "execution_count": 4,
     "metadata": {},
     "output_type": "execute_result"
    }
   ],
   "source": [
    "# Explore na values\n",
    "hares.isna().sum()"
   ]
  },
  {
   "cell_type": "code",
   "execution_count": 5,
   "id": "dcb87389-9ac9-4123-8ffe-c907eedb6bc3",
   "metadata": {
    "tags": []
   },
   "outputs": [
    {
     "data": {
      "text/html": [
       "<div>\n",
       "<style scoped>\n",
       "    .dataframe tbody tr th:only-of-type {\n",
       "        vertical-align: middle;\n",
       "    }\n",
       "\n",
       "    .dataframe tbody tr th {\n",
       "        vertical-align: top;\n",
       "    }\n",
       "\n",
       "    .dataframe thead th {\n",
       "        text-align: right;\n",
       "    }\n",
       "</style>\n",
       "<table border=\"1\" class=\"dataframe\">\n",
       "  <thead>\n",
       "    <tr style=\"text-align: right;\">\n",
       "      <th></th>\n",
       "      <th>weight</th>\n",
       "      <th>hindft</th>\n",
       "    </tr>\n",
       "  </thead>\n",
       "  <tbody>\n",
       "    <tr>\n",
       "      <th>count</th>\n",
       "      <td>2845.000000</td>\n",
       "      <td>1633.000000</td>\n",
       "    </tr>\n",
       "    <tr>\n",
       "      <th>mean</th>\n",
       "      <td>1346.081547</td>\n",
       "      <td>130.872627</td>\n",
       "    </tr>\n",
       "    <tr>\n",
       "      <th>std</th>\n",
       "      <td>345.160112</td>\n",
       "      <td>16.155295</td>\n",
       "    </tr>\n",
       "    <tr>\n",
       "      <th>min</th>\n",
       "      <td>0.000000</td>\n",
       "      <td>60.000000</td>\n",
       "    </tr>\n",
       "    <tr>\n",
       "      <th>25%</th>\n",
       "      <td>1180.000000</td>\n",
       "      <td>128.000000</td>\n",
       "    </tr>\n",
       "    <tr>\n",
       "      <th>50%</th>\n",
       "      <td>1400.000000</td>\n",
       "      <td>135.000000</td>\n",
       "    </tr>\n",
       "    <tr>\n",
       "      <th>75%</th>\n",
       "      <td>1580.000000</td>\n",
       "      <td>140.000000</td>\n",
       "    </tr>\n",
       "    <tr>\n",
       "      <th>max</th>\n",
       "      <td>2365.000000</td>\n",
       "      <td>160.000000</td>\n",
       "    </tr>\n",
       "  </tbody>\n",
       "</table>\n",
       "</div>"
      ],
      "text/plain": [
       "            weight       hindft\n",
       "count  2845.000000  1633.000000\n",
       "mean   1346.081547   130.872627\n",
       "std     345.160112    16.155295\n",
       "min       0.000000    60.000000\n",
       "25%    1180.000000   128.000000\n",
       "50%    1400.000000   135.000000\n",
       "75%    1580.000000   140.000000\n",
       "max    2365.000000   160.000000"
      ]
     },
     "execution_count": 5,
     "metadata": {},
     "output_type": "execute_result"
    }
   ],
   "source": [
    "# Min and max weight and feet measurements\n",
    "hares[[\"weight\", \"hindft\"]].describe()"
   ]
  },
  {
   "cell_type": "code",
   "execution_count": 6,
   "id": "7eb8cc3d-f793-4cad-ae45-4925d834e2c8",
   "metadata": {
    "tags": []
   },
   "outputs": [
    {
     "data": {
      "text/plain": [
       "array([nan, 'M', 'F', '?', 'F?', 'M?', 'pf', 'm', 'f', 'f?', 'm?', 'f ',\n",
       "       'm '], dtype=object)"
      ]
     },
     "execution_count": 6,
     "metadata": {},
     "output_type": "execute_result"
    }
   ],
   "source": [
    "# Explore unique values\n",
    "hares['sex'].unique()"
   ]
  },
  {
   "cell_type": "code",
   "execution_count": 7,
   "id": "13d081f1-8a1b-47a0-8944-8da144ae21bd",
   "metadata": {
    "tags": []
   },
   "outputs": [
    {
     "data": {
      "text/plain": [
       "122"
      ]
     },
     "execution_count": 7,
     "metadata": {},
     "output_type": "execute_result"
    }
   ],
   "source": [
    "hares['trap'].unique().size"
   ]
  },
  {
   "cell_type": "code",
   "execution_count": 8,
   "id": "bcc3f80e-6cc9-4d3f-95d3-59aec81e16e8",
   "metadata": {
    "tags": []
   },
   "outputs": [
    {
     "data": {
      "text/plain": [
       "array(['bonrip', 'bonbs', 'Bonbs', 'bonmat', 'bonmat '], dtype=object)"
      ]
     },
     "execution_count": 8,
     "metadata": {},
     "output_type": "execute_result"
    }
   ],
   "source": [
    "hares['grid'].unique()"
   ]
  },
  {
   "cell_type": "code",
   "execution_count": 9,
   "id": "1dd120b6-b4b7-427a-88c1-51b735b0a0cb",
   "metadata": {
    "tags": []
   },
   "outputs": [
    {
     "data": {
      "text/plain": [
       "array(['Population', 'Collar', nan, 'Metabolic', 'Metabolic/Collar'],\n",
       "      dtype=object)"
      ]
     },
     "execution_count": 9,
     "metadata": {},
     "output_type": "execute_result"
    }
   ],
   "source": [
    "hares['study'].unique()"
   ]
  },
  {
   "cell_type": "markdown",
   "id": "3e725118-f191-447e-82b8-68185560d801",
   "metadata": {},
   "source": [
    "Exploratory question: Within population studies, how does the average weight of hares vary by trap?"
   ]
  },
  {
   "cell_type": "code",
   "execution_count": 10,
   "id": "71046832-05a6-4012-b810-ee515e0d87e8",
   "metadata": {
    "tags": []
   },
   "outputs": [
    {
     "data": {
      "text/html": [
       "<div>\n",
       "<style scoped>\n",
       "    .dataframe tbody tr th:only-of-type {\n",
       "        vertical-align: middle;\n",
       "    }\n",
       "\n",
       "    .dataframe tbody tr th {\n",
       "        vertical-align: top;\n",
       "    }\n",
       "\n",
       "    .dataframe thead th {\n",
       "        text-align: right;\n",
       "    }\n",
       "</style>\n",
       "<table border=\"1\" class=\"dataframe\">\n",
       "  <thead>\n",
       "    <tr style=\"text-align: right;\">\n",
       "      <th></th>\n",
       "      <th>weight</th>\n",
       "      <th>hindft</th>\n",
       "      <th>b_key</th>\n",
       "      <th>session_id</th>\n",
       "    </tr>\n",
       "    <tr>\n",
       "      <th>trap</th>\n",
       "      <th></th>\n",
       "      <th></th>\n",
       "      <th></th>\n",
       "      <th></th>\n",
       "    </tr>\n",
       "  </thead>\n",
       "  <tbody>\n",
       "    <tr>\n",
       "      <th>7f</th>\n",
       "      <td>1640.000000</td>\n",
       "      <td>NaN</td>\n",
       "      <td>734.250000</td>\n",
       "      <td>35.750000</td>\n",
       "    </tr>\n",
       "    <tr>\n",
       "      <th>5c</th>\n",
       "      <td>1540.000000</td>\n",
       "      <td>NaN</td>\n",
       "      <td>63.000000</td>\n",
       "      <td>64.000000</td>\n",
       "    </tr>\n",
       "    <tr>\n",
       "      <th>7D</th>\n",
       "      <td>1535.000000</td>\n",
       "      <td>125.500000</td>\n",
       "      <td>388.777778</td>\n",
       "      <td>64.833333</td>\n",
       "    </tr>\n",
       "    <tr>\n",
       "      <th>4f</th>\n",
       "      <td>1534.166667</td>\n",
       "      <td>142.000000</td>\n",
       "      <td>487.125000</td>\n",
       "      <td>38.375000</td>\n",
       "    </tr>\n",
       "    <tr>\n",
       "      <th>9C</th>\n",
       "      <td>1525.000000</td>\n",
       "      <td>131.777778</td>\n",
       "      <td>433.400000</td>\n",
       "      <td>69.866667</td>\n",
       "    </tr>\n",
       "    <tr>\n",
       "      <th>...</th>\n",
       "      <td>...</td>\n",
       "      <td>...</td>\n",
       "      <td>...</td>\n",
       "      <td>...</td>\n",
       "    </tr>\n",
       "    <tr>\n",
       "      <th>4e</th>\n",
       "      <td>565.000000</td>\n",
       "      <td>90.000000</td>\n",
       "      <td>72.000000</td>\n",
       "      <td>50.000000</td>\n",
       "    </tr>\n",
       "    <tr>\n",
       "      <th>6b</th>\n",
       "      <td>450.000000</td>\n",
       "      <td>96.000000</td>\n",
       "      <td>76.000000</td>\n",
       "      <td>50.000000</td>\n",
       "    </tr>\n",
       "    <tr>\n",
       "      <th>4c</th>\n",
       "      <td>427.500000</td>\n",
       "      <td>87.500000</td>\n",
       "      <td>68.500000</td>\n",
       "      <td>50.000000</td>\n",
       "    </tr>\n",
       "    <tr>\n",
       "      <th>3g</th>\n",
       "      <td>NaN</td>\n",
       "      <td>NaN</td>\n",
       "      <td>975.000000</td>\n",
       "      <td>37.000000</td>\n",
       "    </tr>\n",
       "    <tr>\n",
       "      <th>4b</th>\n",
       "      <td>NaN</td>\n",
       "      <td>NaN</td>\n",
       "      <td>63.000000</td>\n",
       "      <td>64.000000</td>\n",
       "    </tr>\n",
       "  </tbody>\n",
       "</table>\n",
       "<p>121 rows × 4 columns</p>\n",
       "</div>"
      ],
      "text/plain": [
       "           weight      hindft       b_key  session_id\n",
       "trap                                                 \n",
       "7f    1640.000000         NaN  734.250000   35.750000\n",
       "5c    1540.000000         NaN   63.000000   64.000000\n",
       "7D    1535.000000  125.500000  388.777778   64.833333\n",
       "4f    1534.166667  142.000000  487.125000   38.375000\n",
       "9C    1525.000000  131.777778  433.400000   69.866667\n",
       "...           ...         ...         ...         ...\n",
       "4e     565.000000   90.000000   72.000000   50.000000\n",
       "6b     450.000000   96.000000   76.000000   50.000000\n",
       "4c     427.500000   87.500000   68.500000   50.000000\n",
       "3g            NaN         NaN  975.000000   37.000000\n",
       "4b            NaN         NaN   63.000000   64.000000\n",
       "\n",
       "[121 rows x 4 columns]"
      ]
     },
     "execution_count": 10,
     "metadata": {},
     "output_type": "execute_result"
    }
   ],
   "source": [
    "hares_pop = hares[hares['study'] == 'Population']\n",
    "hares_pop_mean_wt = hares_pop.groupby('trap').mean('weight').sort_values('weight', ascending = False)\n",
    "hares_pop_mean_wt\n"
   ]
  },
  {
   "cell_type": "markdown",
   "id": "d588bb37-8420-4f3f-a7e5-3ddee4f47aab",
   "metadata": {
    "tags": []
   },
   "source": [
    "## 4. Detecting messy values\n",
    "| Code      | Definition |\n",
    "| ----------- | ----------- |\n",
    "| m      | male       |\n",
    "| f   | female        |\n",
    "| m?   | male not confirmed |\n",
    "| f?   | female not confirmed       |"
   ]
  },
  {
   "cell_type": "code",
   "execution_count": 11,
   "id": "f73283da-4638-494d-898a-a4d9fd14fffd",
   "metadata": {
    "tags": []
   },
   "outputs": [
    {
     "data": {
      "text/plain": [
       "sex\n",
       "f     1721\n",
       "m     1249\n",
       "f?      13\n",
       "m?       4\n",
       "Name: count, dtype: int64"
      ]
     },
     "execution_count": 11,
     "metadata": {},
     "output_type": "execute_result"
    }
   ],
   "source": [
    "hares['sex'].str.lower().str.strip().value_counts().drop([\"?\", \"pf\"])\n",
    "\n",
    "# .str.strip() removes whitespace which was causing duplicate sex values"
   ]
  },
  {
   "cell_type": "code",
   "execution_count": 14,
   "id": "5afd12b1-2ce2-4e3a-8e2f-2bd9185adb02",
   "metadata": {},
   "outputs": [],
   "source": [
    "condition_list = [hares.sex.isin(['M', 'm', 'm_']), hares.sex.isin(['F', 'f', 'f_'])]\n",
    "output_list = ['male', 'female']\n",
    "\n",
    "new_column = np.select(condition_list, output_list, default = np.nan)\n",
    "\n",
    "hares['sex_simple'] = new_column"
   ]
  },
  {
   "cell_type": "code",
   "execution_count": 15,
   "id": "066e4892-ddda-4bfd-bf68-0427aa473e8c",
   "metadata": {
    "tags": []
   },
   "outputs": [
    {
     "data": {
      "text/plain": [
       "sex_simple2\n",
       "female    1734\n",
       "male      1253\n",
       "Name: count, dtype: int64"
      ]
     },
     "execution_count": 15,
     "metadata": {},
     "output_type": "execute_result"
    }
   ],
   "source": [
    "sex_mapping = {\"m\":\"male\", \"m?\": \"male\", \"f\":\"female\", \"f?\": \"female\", \"?\":np.nan, \"pf\":np.nan}\n",
    "hares['sex_simple2'] = (hares['sex'].dropna().str.lower().str.strip().replace(sex_mapping))\n",
    "\n",
    "hares['sex_simple2'].value_counts()"
   ]
  },
  {
   "cell_type": "markdown",
   "id": "56aef290-88a9-45fa-843c-afb74bbdc8b7",
   "metadata": {},
   "source": [
    "## 7. Calculate mean weight\n",
    "a. Use groupby() to calculate the mean weight by sex using the new column.\n",
    "\n",
    "b. Write a full sentence explaining the results you obtained. Don’t forget to include units."
   ]
  },
  {
   "cell_type": "code",
   "execution_count": 16,
   "id": "4d3ddb52-2224-455e-bc80-559cfbb9d35e",
   "metadata": {
    "tags": []
   },
   "outputs": [
    {
     "data": {
      "text/plain": [
       "sex_simple\n",
       "female    1366.920372\n",
       "male      1352.145553\n",
       "nan       1176.511111\n",
       "Name: weight, dtype: float64"
      ]
     },
     "execution_count": 16,
     "metadata": {},
     "output_type": "execute_result"
    }
   ],
   "source": [
    "hares.groupby(\"sex_simple\")['weight'].mean()"
   ]
  },
  {
   "cell_type": "markdown",
   "id": "282f7788-e247-4aad-9574-2e2a5d98ff02",
   "metadata": {},
   "source": [
    "The mean weight of female hares is 1366.92 grams, while male hares have a mean weight of 1352.15 grams, showing that females are slightly heavier than males by approximately 15 grams on average."
   ]
  },
  {
   "cell_type": "code",
   "execution_count": null,
   "id": "134c017a-0351-4c48-8b22-c61ccec9870e",
   "metadata": {},
   "outputs": [],
   "source": []
  }
 ],
 "metadata": {
  "kernelspec": {
   "display_name": "EDS220",
   "language": "python",
   "name": "eds220-env"
  },
  "language_info": {
   "codemirror_mode": {
    "name": "ipython",
    "version": 3
   },
   "file_extension": ".py",
   "mimetype": "text/x-python",
   "name": "python",
   "nbconvert_exporter": "python",
   "pygments_lexer": "ipython3",
   "version": "3.11.4"
  }
 },
 "nbformat": 4,
 "nbformat_minor": 5
}
